{
  "nbformat": 4,
  "nbformat_minor": 0,
  "metadata": {
    "colab": {
      "provenance": []
    },
    "kernelspec": {
      "name": "python3",
      "display_name": "Python 3"
    },
    "language_info": {
      "name": "python"
    }
  },
  "cells": [
    {
      "cell_type": "code",
      "execution_count": 1,
      "metadata": {
        "id": "EokMhGS81hhm"
      },
      "outputs": [],
      "source": [
        "import sqlite3\n",
        "import pandas as pd\n",
        "import matplotlib.pyplot as plt\n"
      ]
    },
    {
      "cell_type": "code",
      "source": [
        "# Connect to (or create) SQLite database\n",
        "conn = sqlite3.connect(\"sales_data.db\")\n",
        "cursor = conn.cursor()\n",
        "\n",
        "# Create table\n",
        "cursor.execute(\"\"\"\n",
        "CREATE TABLE IF NOT EXISTS sales (\n",
        "    product TEXT,\n",
        "    quantity INTEGER,\n",
        "    price REAL\n",
        ")\n",
        "\"\"\")\n",
        "\n",
        "# Insert sample data\n",
        "data = [\n",
        "    (\"Laptop\", 10, 50000),\n",
        "    (\"Mobile\", 25, 15000),\n",
        "    (\"Tablet\", 15, 20000),\n",
        "    (\"Headphones\", 30, 2000),\n",
        "    (\"Smartwatch\", 20, 5000)\n",
        "]\n",
        "\n",
        "cursor.executemany(\"INSERT INTO sales (product, quantity, price) VALUES (?, ?, ?)\", data)\n",
        "conn.commit()\n",
        "print(\"✅ Sample data inserted successfully!\")\n"
      ],
      "metadata": {
        "colab": {
          "base_uri": "https://localhost:8080/"
        },
        "id": "aG-EV7vv1wGh",
        "outputId": "779d7e2f-a80c-498b-9b59-7c823e35fbbe"
      },
      "execution_count": 2,
      "outputs": [
        {
          "output_type": "stream",
          "name": "stdout",
          "text": [
            "✅ Sample data inserted successfully!\n"
          ]
        }
      ]
    },
    {
      "cell_type": "code",
      "source": [
        "query = \"\"\"\n",
        "SELECT\n",
        "    product,\n",
        "    SUM(quantity) AS total_qty,\n",
        "    SUM(quantity * price) AS revenue\n",
        "FROM sales\n",
        "GROUP BY product\n",
        "\"\"\"\n",
        "\n",
        "df = pd.read_sql_query(query, conn)\n",
        "print(\"📊 Sales Summary:\\n\")\n",
        "print(df)\n"
      ],
      "metadata": {
        "colab": {
          "base_uri": "https://localhost:8080/"
        },
        "id": "npwPOuDT10uF",
        "outputId": "2d85c1ea-76df-4b70-e3e3-1b5f2c503013"
      },
      "execution_count": 3,
      "outputs": [
        {
          "output_type": "stream",
          "name": "stdout",
          "text": [
            "📊 Sales Summary:\n",
            "\n",
            "      product  total_qty   revenue\n",
            "0  Headphones         30   60000.0\n",
            "1      Laptop         10  500000.0\n",
            "2      Mobile         25  375000.0\n",
            "3  Smartwatch         20  100000.0\n",
            "4      Tablet         15  300000.0\n"
          ]
        }
      ]
    },
    {
      "cell_type": "code",
      "source": [
        "df.plot(kind='bar', x='product', y='revenue', color='skyblue', legend=False)\n",
        "plt.title(\"Revenue by Product\")\n",
        "plt.xlabel(\"Product\")\n",
        "plt.ylabel(\"Revenue\")\n",
        "plt.tight_layout()\n",
        "plt.show()\n"
      ],
      "metadata": {
        "colab": {
          "base_uri": "https://localhost:8080/",
          "height": 487
        },
        "id": "c9omVWPE12wB",
        "outputId": "1b691e06-0625-47c7-fcd9-1848efbdc527"
      },
      "execution_count": 4,
      "outputs": [
        {
          "output_type": "display_data",
          "data": {
            "text/plain": [
              "<Figure size 640x480 with 1 Axes>"
            ],
            "image/png": "[encoded data removed]"
          },
          "metadata": {}
        }
      ]
    },
    {
      "cell_type": "code",
      "source": [
        "plt.savefig(\"sales_chart.png\")\n",
        "\n"
      ],
      "metadata": {
        "colab": {
          "base_uri": "https://localhost:8080/",
          "height": 34
        },
        "id": "7l-NlXBY19pD",
        "outputId": "c9e755bc-b46d-4ab9-9f15-73f0a9d88d0c"
      },
      "execution_count": 5,
      "outputs": [
        {
          "output_type": "display_data",
          "data": {
            "text/plain": [
              "<Figure size 640x480 with 0 Axes>"
            ]
          },
          "metadata": {}
        }
      ]
    },
    {
      "cell_type": "code",
      "source": [
        "conn.close()\n"
      ],
      "metadata": {
        "id": "qgK_C2xE2MIF"
      },
      "execution_count": 6,
      "outputs": []
    }
  ]
}